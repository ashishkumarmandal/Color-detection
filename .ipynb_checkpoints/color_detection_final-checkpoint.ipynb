{
 "cells": [
  {
   "cell_type": "code",
   "execution_count": null,
   "id": "7b657e99",
   "metadata": {},
   "outputs": [
    {
     "name": "stdout",
     "output_type": "stream",
     "text": [
      "Image shape: (1920, 1280, 3)\n"
     ]
    }
   ],
   "source": [
    "import cv2\n",
    "import numpy as np\n",
    "import pandas as pd\n",
    "\n",
    "# Read the image and CSV file\n",
    "img = cv2.imread(\"pexels-npandey-2446439.jpg\")\n",
    "if img is None or img.size == 0:\n",
    "    print(\"Error: Unable to read the image.\")\n",
    "    exit()\n",
    "\n",
    "index = [\"color\", \"color_name\", \"hex\", \"R\", \"G\", \"B\"]\n",
    "data = pd.read_csv(\"colors.csv\", names=index, header=None)\n",
    "\n",
    "# Print image information\n",
    "print(\"Image shape:\", img.shape)\n",
    "\n",
    "# Global variables for mouse callback\n",
    "b, g, r, xpos, ypos, clicked = 0, 0, 0, 0, 0, False\n",
    "\n",
    "# Mouse callback function\n",
    "def call_back_function(event, x, y, flags, param):\n",
    "    global b, g, r, xpos, ypos, clicked\n",
    "    if event == cv2.EVENT_LBUTTONDBLCLK:\n",
    "        clicked = True\n",
    "        xpos = x\n",
    "        ypos = y\n",
    "        b, g, r = img[y, x]\n",
    "        b = int(b)\n",
    "        g = int(g)\n",
    "        r = int(r)\n",
    "\n",
    "# Set up the window and mouse callback\n",
    "cv2.namedWindow(\"Color Detection Window\")\n",
    "cv2.setMouseCallback(\"Color Detection Window\", call_back_function)\n",
    "\n",
    "# Function to get color name\n",
    "def get_Color_Name(R, G, B):\n",
    "    minimum = 10000\n",
    "    for i in range(len(data)):\n",
    "        d = abs(R - int(data.loc[i, \"R\"])) + abs(G - int(data.loc[i, \"G\"])) + abs(B - int(data.loc[i, \"B\"]))\n",
    "        if d <= minimum:\n",
    "            minimum = d\n",
    "            cname = data.loc[i, \"color_name\"]\n",
    "    return cname\n",
    "\n",
    "# Main loop\n",
    "while True:\n",
    "    # Check image size\n",
    "    if img.shape[0] == 0 or img.shape[1] == 0:\n",
    "        print(\"Error: Image size is zero.\")\n",
    "        break\n",
    "\n",
    "    cv2.imshow(\"Color Detection Window\", img)\n",
    "\n",
    "    if clicked:\n",
    "        cv2.rectangle(img, (20, 20), (750, 60), (b, g, r), -1)\n",
    "        text = get_Color_Name(r, g, b) + ' R=' + str(r) + ' G=' + str(g) + ' B=' + str(b)\n",
    "        cv2.putText(img, text, (50, 50), 2, 0.8, (255, 255, 255), 2, cv2.LINE_AA)\n",
    "        if r + g + b >= 600:\n",
    "            cv2.putText(img, text, (50, 50), 2, 0.8, (0, 0, 0), 2, cv2.LINE_AA)\n",
    "        clicked = False\n",
    "\n",
    "    key = cv2.waitKey(20)\n",
    "    if key == 27:  # ESC key\n",
    "        break\n",
    "\n",
    "cv2.destroyAllWindows()\n"
   ]
  },
  {
   "cell_type": "code",
   "execution_count": null,
   "id": "515bad1f",
   "metadata": {},
   "outputs": [],
   "source": []
  }
 ],
 "metadata": {
  "kernelspec": {
   "display_name": "Python 3 (ipykernel)",
   "language": "python",
   "name": "python3"
  },
  "language_info": {
   "codemirror_mode": {
    "name": "ipython",
    "version": 3
   },
   "file_extension": ".py",
   "mimetype": "text/x-python",
   "name": "python",
   "nbconvert_exporter": "python",
   "pygments_lexer": "ipython3",
   "version": "3.11.5"
  }
 },
 "nbformat": 4,
 "nbformat_minor": 5
}
